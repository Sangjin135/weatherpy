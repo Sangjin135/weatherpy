{
 "cells": [
  {
   "cell_type": "code",
   "execution_count": 1,
   "metadata": {},
   "outputs": [],
   "source": [
    "# Dependencies\n",
    "import json\n",
    "import requests\n",
    "from weatherapi import api_key\n",
    "import openweathermapy.core as owm\n",
    "import pandas as pd\n",
    "import random\n",
    "import seaborn as sns\n",
    "import numpy as np\n",
    "from citipy import citipy\n",
    "import matplotlib.pyplot as plt"
   ]
  },
  {
   "cell_type": "code",
   "execution_count": 2,
   "metadata": {},
   "outputs": [],
   "source": [
    "# Save config information\n",
    "url = \"http://api.openweathermap.org/data/2.5/weather?units=imperial\"\n",
    "\n",
    "# Build query URL\n",
    "query_url = url + \"appid=\" + api_key + \"&q=\""
   ]
  },
  {
   "cell_type": "code",
   "execution_count": 3,
   "metadata": {},
   "outputs": [],
   "source": [
    "#Random latitudes and longitudes and set up a dataframe\n",
    "latitude = np.random.uniform(-90,90,600)\n",
    "longitude = np.random.uniform(-180,180,600)\n",
    "coordinates = pd.DataFrame({\"Latitude\": latitude, \"Longitude\": longitude})"
   ]
  },
  {
   "cell_type": "code",
   "execution_count": 4,
   "metadata": {},
   "outputs": [],
   "source": [
    "#add other columns we want to get from the coordinates\n",
    "coordinates[\"City\"] = \"\"\n",
    "coordinates[\"Country Code\"] = \"\"\n",
    "coordinates[\"Temperature\"] = \"\"\n",
    "coordinates[\"Humidity\"] = \"\"\n",
    "coordinates[\"Cloudiness\"] = \"\"\n",
    "coordinates[\"Wind Speed\"] = \"\""
   ]
  },
  {
   "cell_type": "code",
   "execution_count": 5,
   "metadata": {},
   "outputs": [
    {
     "name": "stderr",
     "output_type": "stream",
     "text": [
      "C:\\ProgramData\\Anaconda3\\lib\\site-packages\\ipykernel_launcher.py:6: FutureWarning: set_value is deprecated and will be removed in a future release. Please use .at[] or .iat[] accessors instead\n",
      "  \n",
      "C:\\ProgramData\\Anaconda3\\lib\\site-packages\\ipykernel_launcher.py:7: FutureWarning: set_value is deprecated and will be removed in a future release. Please use .at[] or .iat[] accessors instead\n",
      "  import sys\n"
     ]
    }
   ],
   "source": [
    "#run through the coordinates to get the cities and countries\n",
    "for index,row in coordinates.iterrows():\n",
    "    latitude = row[\"Latitude\"]\n",
    "    longitude = row[\"Longitude\"]\n",
    "    city_list = citipy.nearest_city(latitude, longitude)\n",
    "    coordinates.set_value(index, \"City\", city_list.city_name)\n",
    "    coordinates.set_value(index, \"Country Code\", city_list.country_code)\n"
   ]
  },
  {
   "cell_type": "code",
   "execution_count": null,
   "metadata": {},
   "outputs": [
    {
     "name": "stdout",
     "output_type": "stream",
     "text": [
      "http://api.openweathermap.org/data/2.5/weather?units=imperialappid=2dbc1172a9bcb11691ccd61120afdf6d&q=illoqqortoormiut,gl\n",
      "http://api.openweathermap.org/data/2.5/weather?units=imperialappid=2dbc1172a9bcb11691ccd61120afdf6d&q=talara,pe\n",
      "http://api.openweathermap.org/data/2.5/weather?units=imperialappid=2dbc1172a9bcb11691ccd61120afdf6d&q=cesme,tr\n"
     ]
    },
    {
     "name": "stderr",
     "output_type": "stream",
     "text": [
      "C:\\ProgramData\\Anaconda3\\lib\\site-packages\\ipykernel_launcher.py:16: FutureWarning: set_value is deprecated and will be removed in a future release. Please use .at[] or .iat[] accessors instead\n",
      "  app.launch_new_instance()\n",
      "C:\\ProgramData\\Anaconda3\\lib\\site-packages\\ipykernel_launcher.py:17: FutureWarning: set_value is deprecated and will be removed in a future release. Please use .at[] or .iat[] accessors instead\n",
      "C:\\ProgramData\\Anaconda3\\lib\\site-packages\\ipykernel_launcher.py:18: FutureWarning: set_value is deprecated and will be removed in a future release. Please use .at[] or .iat[] accessors instead\n",
      "C:\\ProgramData\\Anaconda3\\lib\\site-packages\\ipykernel_launcher.py:19: FutureWarning: set_value is deprecated and will be removed in a future release. Please use .at[] or .iat[] accessors instead\n"
     ]
    },
    {
     "name": "stdout",
     "output_type": "stream",
     "text": [
      "http://api.openweathermap.org/data/2.5/weather?units=imperialappid=2dbc1172a9bcb11691ccd61120afdf6d&q=krasnoye,ru\n",
      "http://api.openweathermap.org/data/2.5/weather?units=imperialappid=2dbc1172a9bcb11691ccd61120afdf6d&q=barentsburg,sj\n",
      "http://api.openweathermap.org/data/2.5/weather?units=imperialappid=2dbc1172a9bcb11691ccd61120afdf6d&q=vaini,to\n",
      "http://api.openweathermap.org/data/2.5/weather?units=imperialappid=2dbc1172a9bcb11691ccd61120afdf6d&q=rikitea,pf\n",
      "http://api.openweathermap.org/data/2.5/weather?units=imperialappid=2dbc1172a9bcb11691ccd61120afdf6d&q=hasaki,jp\n",
      "http://api.openweathermap.org/data/2.5/weather?units=imperialappid=2dbc1172a9bcb11691ccd61120afdf6d&q=tonekabon,ir\n",
      "http://api.openweathermap.org/data/2.5/weather?units=imperialappid=2dbc1172a9bcb11691ccd61120afdf6d&q=adre,td\n",
      "http://api.openweathermap.org/data/2.5/weather?units=imperialappid=2dbc1172a9bcb11691ccd61120afdf6d&q=galle,lk\n",
      "http://api.openweathermap.org/data/2.5/weather?units=imperialappid=2dbc1172a9bcb11691ccd61120afdf6d&q=saskylakh,ru\n",
      "http://api.openweathermap.org/data/2.5/weather?units=imperialappid=2dbc1172a9bcb11691ccd61120afdf6d&q=punta arenas,cl\n",
      "http://api.openweathermap.org/data/2.5/weather?units=imperialappid=2dbc1172a9bcb11691ccd61120afdf6d&q=saint-philippe,re\n",
      "http://api.openweathermap.org/data/2.5/weather?units=imperialappid=2dbc1172a9bcb11691ccd61120afdf6d&q=springbok,za\n",
      "http://api.openweathermap.org/data/2.5/weather?units=imperialappid=2dbc1172a9bcb11691ccd61120afdf6d&q=katsuura,jp\n",
      "http://api.openweathermap.org/data/2.5/weather?units=imperialappid=2dbc1172a9bcb11691ccd61120afdf6d&q=flinders,au\n",
      "http://api.openweathermap.org/data/2.5/weather?units=imperialappid=2dbc1172a9bcb11691ccd61120afdf6d&q=bluff,nz\n",
      "http://api.openweathermap.org/data/2.5/weather?units=imperialappid=2dbc1172a9bcb11691ccd61120afdf6d&q=derbent,ru\n",
      "http://api.openweathermap.org/data/2.5/weather?units=imperialappid=2dbc1172a9bcb11691ccd61120afdf6d&q=maumere,id\n",
      "http://api.openweathermap.org/data/2.5/weather?units=imperialappid=2dbc1172a9bcb11691ccd61120afdf6d&q=saldanha,za\n",
      "http://api.openweathermap.org/data/2.5/weather?units=imperialappid=2dbc1172a9bcb11691ccd61120afdf6d&q=omboue,ga\n",
      "http://api.openweathermap.org/data/2.5/weather?units=imperialappid=2dbc1172a9bcb11691ccd61120afdf6d&q=albany,au\n",
      "http://api.openweathermap.org/data/2.5/weather?units=imperialappid=2dbc1172a9bcb11691ccd61120afdf6d&q=saint-philippe,re\n",
      "http://api.openweathermap.org/data/2.5/weather?units=imperialappid=2dbc1172a9bcb11691ccd61120afdf6d&q=hobart,au\n",
      "http://api.openweathermap.org/data/2.5/weather?units=imperialappid=2dbc1172a9bcb11691ccd61120afdf6d&q=ushuaia,ar\n",
      "http://api.openweathermap.org/data/2.5/weather?units=imperialappid=2dbc1172a9bcb11691ccd61120afdf6d&q=kathmandu,np\n",
      "http://api.openweathermap.org/data/2.5/weather?units=imperialappid=2dbc1172a9bcb11691ccd61120afdf6d&q=kodiak,us\n",
      "http://api.openweathermap.org/data/2.5/weather?units=imperialappid=2dbc1172a9bcb11691ccd61120afdf6d&q=punta arenas,cl\n",
      "http://api.openweathermap.org/data/2.5/weather?units=imperialappid=2dbc1172a9bcb11691ccd61120afdf6d&q=castro,cl\n",
      "http://api.openweathermap.org/data/2.5/weather?units=imperialappid=2dbc1172a9bcb11691ccd61120afdf6d&q=rikitea,pf\n",
      "http://api.openweathermap.org/data/2.5/weather?units=imperialappid=2dbc1172a9bcb11691ccd61120afdf6d&q=bluff,nz\n",
      "http://api.openweathermap.org/data/2.5/weather?units=imperialappid=2dbc1172a9bcb11691ccd61120afdf6d&q=hermon,us\n",
      "http://api.openweathermap.org/data/2.5/weather?units=imperialappid=2dbc1172a9bcb11691ccd61120afdf6d&q=punta arenas,cl\n",
      "http://api.openweathermap.org/data/2.5/weather?units=imperialappid=2dbc1172a9bcb11691ccd61120afdf6d&q=esperance,au\n",
      "http://api.openweathermap.org/data/2.5/weather?units=imperialappid=2dbc1172a9bcb11691ccd61120afdf6d&q=la ronge,ca\n",
      "http://api.openweathermap.org/data/2.5/weather?units=imperialappid=2dbc1172a9bcb11691ccd61120afdf6d&q=sain alto,mx\n",
      "http://api.openweathermap.org/data/2.5/weather?units=imperialappid=2dbc1172a9bcb11691ccd61120afdf6d&q=punta arenas,cl\n",
      "http://api.openweathermap.org/data/2.5/weather?units=imperialappid=2dbc1172a9bcb11691ccd61120afdf6d&q=souillac,mu\n",
      "http://api.openweathermap.org/data/2.5/weather?units=imperialappid=2dbc1172a9bcb11691ccd61120afdf6d&q=mahebourg,mu\n",
      "http://api.openweathermap.org/data/2.5/weather?units=imperialappid=2dbc1172a9bcb11691ccd61120afdf6d&q=mitzic,ga\n",
      "http://api.openweathermap.org/data/2.5/weather?units=imperialappid=2dbc1172a9bcb11691ccd61120afdf6d&q=berezovyy,ru\n",
      "http://api.openweathermap.org/data/2.5/weather?units=imperialappid=2dbc1172a9bcb11691ccd61120afdf6d&q=mar del plata,ar\n",
      "http://api.openweathermap.org/data/2.5/weather?units=imperialappid=2dbc1172a9bcb11691ccd61120afdf6d&q=sept-iles,ca\n",
      "http://api.openweathermap.org/data/2.5/weather?units=imperialappid=2dbc1172a9bcb11691ccd61120afdf6d&q=ponta do sol,cv\n",
      "http://api.openweathermap.org/data/2.5/weather?units=imperialappid=2dbc1172a9bcb11691ccd61120afdf6d&q=port alfred,za\n",
      "http://api.openweathermap.org/data/2.5/weather?units=imperialappid=2dbc1172a9bcb11691ccd61120afdf6d&q=yellowknife,ca\n",
      "http://api.openweathermap.org/data/2.5/weather?units=imperialappid=2dbc1172a9bcb11691ccd61120afdf6d&q=port macquarie,au\n",
      "http://api.openweathermap.org/data/2.5/weather?units=imperialappid=2dbc1172a9bcb11691ccd61120afdf6d&q=nikolskoye,ru\n",
      "http://api.openweathermap.org/data/2.5/weather?units=imperialappid=2dbc1172a9bcb11691ccd61120afdf6d&q=sur,om\n",
      "http://api.openweathermap.org/data/2.5/weather?units=imperialappid=2dbc1172a9bcb11691ccd61120afdf6d&q=hithadhoo,mv\n",
      "http://api.openweathermap.org/data/2.5/weather?units=imperialappid=2dbc1172a9bcb11691ccd61120afdf6d&q=rikitea,pf\n",
      "http://api.openweathermap.org/data/2.5/weather?units=imperialappid=2dbc1172a9bcb11691ccd61120afdf6d&q=troitskoye,ru\n",
      "http://api.openweathermap.org/data/2.5/weather?units=imperialappid=2dbc1172a9bcb11691ccd61120afdf6d&q=dingle,ie\n",
      "http://api.openweathermap.org/data/2.5/weather?units=imperialappid=2dbc1172a9bcb11691ccd61120afdf6d&q=puerto ayora,ec\n",
      "http://api.openweathermap.org/data/2.5/weather?units=imperialappid=2dbc1172a9bcb11691ccd61120afdf6d&q=mazara del vallo,it\n",
      "http://api.openweathermap.org/data/2.5/weather?units=imperialappid=2dbc1172a9bcb11691ccd61120afdf6d&q=georgetown,sh\n",
      "http://api.openweathermap.org/data/2.5/weather?units=imperialappid=2dbc1172a9bcb11691ccd61120afdf6d&q=port moresby,pg\n",
      "http://api.openweathermap.org/data/2.5/weather?units=imperialappid=2dbc1172a9bcb11691ccd61120afdf6d&q=mataura,pf\n",
      "http://api.openweathermap.org/data/2.5/weather?units=imperialappid=2dbc1172a9bcb11691ccd61120afdf6d&q=kahului,us\n",
      "http://api.openweathermap.org/data/2.5/weather?units=imperialappid=2dbc1172a9bcb11691ccd61120afdf6d&q=arraial do cabo,br\n",
      "http://api.openweathermap.org/data/2.5/weather?units=imperialappid=2dbc1172a9bcb11691ccd61120afdf6d&q=atasu,kz\n",
      "http://api.openweathermap.org/data/2.5/weather?units=imperialappid=2dbc1172a9bcb11691ccd61120afdf6d&q=tuktoyaktuk,ca\n",
      "http://api.openweathermap.org/data/2.5/weather?units=imperialappid=2dbc1172a9bcb11691ccd61120afdf6d&q=rikitea,pf\n",
      "http://api.openweathermap.org/data/2.5/weather?units=imperialappid=2dbc1172a9bcb11691ccd61120afdf6d&q=ushuaia,ar\n",
      "http://api.openweathermap.org/data/2.5/weather?units=imperialappid=2dbc1172a9bcb11691ccd61120afdf6d&q=hermanus,za\n",
      "http://api.openweathermap.org/data/2.5/weather?units=imperialappid=2dbc1172a9bcb11691ccd61120afdf6d&q=los llanos de aridane,es\n",
      "http://api.openweathermap.org/data/2.5/weather?units=imperialappid=2dbc1172a9bcb11691ccd61120afdf6d&q=mar del plata,ar\n",
      "http://api.openweathermap.org/data/2.5/weather?units=imperialappid=2dbc1172a9bcb11691ccd61120afdf6d&q=albany,au\n",
      "http://api.openweathermap.org/data/2.5/weather?units=imperialappid=2dbc1172a9bcb11691ccd61120afdf6d&q=virginia beach,us\n",
      "http://api.openweathermap.org/data/2.5/weather?units=imperialappid=2dbc1172a9bcb11691ccd61120afdf6d&q=evensk,ru\n",
      "http://api.openweathermap.org/data/2.5/weather?units=imperialappid=2dbc1172a9bcb11691ccd61120afdf6d&q=nikolskoye,ru\n",
      "http://api.openweathermap.org/data/2.5/weather?units=imperialappid=2dbc1172a9bcb11691ccd61120afdf6d&q=albany,au\n",
      "http://api.openweathermap.org/data/2.5/weather?units=imperialappid=2dbc1172a9bcb11691ccd61120afdf6d&q=ushuaia,ar\n",
      "http://api.openweathermap.org/data/2.5/weather?units=imperialappid=2dbc1172a9bcb11691ccd61120afdf6d&q=lagoa,pt\n",
      "http://api.openweathermap.org/data/2.5/weather?units=imperialappid=2dbc1172a9bcb11691ccd61120afdf6d&q=ahipara,nz\n"
     ]
    },
    {
     "name": "stdout",
     "output_type": "stream",
     "text": [
      "http://api.openweathermap.org/data/2.5/weather?units=imperialappid=2dbc1172a9bcb11691ccd61120afdf6d&q=cape town,za\n",
      "http://api.openweathermap.org/data/2.5/weather?units=imperialappid=2dbc1172a9bcb11691ccd61120afdf6d&q=fare,pf\n",
      "http://api.openweathermap.org/data/2.5/weather?units=imperialappid=2dbc1172a9bcb11691ccd61120afdf6d&q=barentsburg,sj\n",
      "http://api.openweathermap.org/data/2.5/weather?units=imperialappid=2dbc1172a9bcb11691ccd61120afdf6d&q=khatanga,ru\n",
      "http://api.openweathermap.org/data/2.5/weather?units=imperialappid=2dbc1172a9bcb11691ccd61120afdf6d&q=acapulco,mx\n",
      "http://api.openweathermap.org/data/2.5/weather?units=imperialappid=2dbc1172a9bcb11691ccd61120afdf6d&q=abha,sa\n",
      "http://api.openweathermap.org/data/2.5/weather?units=imperialappid=2dbc1172a9bcb11691ccd61120afdf6d&q=albany,au\n",
      "http://api.openweathermap.org/data/2.5/weather?units=imperialappid=2dbc1172a9bcb11691ccd61120afdf6d&q=muros,es\n",
      "http://api.openweathermap.org/data/2.5/weather?units=imperialappid=2dbc1172a9bcb11691ccd61120afdf6d&q=oktyabrskoye,ru\n",
      "http://api.openweathermap.org/data/2.5/weather?units=imperialappid=2dbc1172a9bcb11691ccd61120afdf6d&q=rikitea,pf\n",
      "http://api.openweathermap.org/data/2.5/weather?units=imperialappid=2dbc1172a9bcb11691ccd61120afdf6d&q=manyana,bw\n",
      "http://api.openweathermap.org/data/2.5/weather?units=imperialappid=2dbc1172a9bcb11691ccd61120afdf6d&q=ilulissat,gl\n",
      "http://api.openweathermap.org/data/2.5/weather?units=imperialappid=2dbc1172a9bcb11691ccd61120afdf6d&q=mataura,pf\n",
      "http://api.openweathermap.org/data/2.5/weather?units=imperialappid=2dbc1172a9bcb11691ccd61120afdf6d&q=olafsvik,is\n",
      "http://api.openweathermap.org/data/2.5/weather?units=imperialappid=2dbc1172a9bcb11691ccd61120afdf6d&q=cape town,za\n",
      "http://api.openweathermap.org/data/2.5/weather?units=imperialappid=2dbc1172a9bcb11691ccd61120afdf6d&q=cherskiy,ru\n",
      "http://api.openweathermap.org/data/2.5/weather?units=imperialappid=2dbc1172a9bcb11691ccd61120afdf6d&q=cherskiy,ru\n",
      "http://api.openweathermap.org/data/2.5/weather?units=imperialappid=2dbc1172a9bcb11691ccd61120afdf6d&q=constitucion,mx\n",
      "http://api.openweathermap.org/data/2.5/weather?units=imperialappid=2dbc1172a9bcb11691ccd61120afdf6d&q=victoria,sc\n",
      "http://api.openweathermap.org/data/2.5/weather?units=imperialappid=2dbc1172a9bcb11691ccd61120afdf6d&q=saint-francois,gp\n",
      "http://api.openweathermap.org/data/2.5/weather?units=imperialappid=2dbc1172a9bcb11691ccd61120afdf6d&q=querfurt,de\n",
      "http://api.openweathermap.org/data/2.5/weather?units=imperialappid=2dbc1172a9bcb11691ccd61120afdf6d&q=bengkulu,id\n",
      "http://api.openweathermap.org/data/2.5/weather?units=imperialappid=2dbc1172a9bcb11691ccd61120afdf6d&q=grand river south east,mu\n",
      "http://api.openweathermap.org/data/2.5/weather?units=imperialappid=2dbc1172a9bcb11691ccd61120afdf6d&q=punta arenas,cl\n"
     ]
    }
   ],
   "source": [
    "#run through the cities to get the other weather data\n",
    "for index, row in coordinates.iterrows():\n",
    "    city = row[\"City\"]\n",
    "    country = row[\"Country Code\"]\n",
    "    location = str(city)+ \",\" + str(country)\n",
    "    weather_url = query_url + location\n",
    "    print(weather_url)\n",
    "    weatherinfo = requests.get(weather_url).json()\n",
    "    \n",
    "    try:\n",
    "        coordinates.set_value(index, \"Temperature\", weatherinfo[\"main\"][\"temp\"])\n",
    "        coordinates.set_value(index, \"Humidity\", weatherinfo[\"main\"][\"humidity\"])\n",
    "        coordinates.set_value(index, \"Cloudiness\", weatherinfo[\"clouds\"][\"all\"])\n",
    "        coordinates.set_value(index, \"Wind Speed\", weatherinfo[\"wind\"][\"speed\"])\n",
    "    except:\n",
    "        coordinates.set_value(index, \"Temperature\", \"N/A\")\n",
    "        coordinates.set_value(index, \"Humidity\", \"N/A\")\n",
    "        coordinates.set_value(index, \"Cloudiness\", \"N/A\")\n",
    "        coordinates.set_value(index, \"Wind Speed\", \"N/A\")"
   ]
  },
  {
   "cell_type": "code",
   "execution_count": null,
   "metadata": {},
   "outputs": [],
   "source": [
    "coordinates.head()"
   ]
  },
  {
   "cell_type": "code",
   "execution_count": null,
   "metadata": {},
   "outputs": [],
   "source": [
    "cleanco = coordinates[coordinates[\"Temperature\"]!=\"N/A\"]\n",
    "cleanco = coordinates[coordinates[\"Humidity\"]!=\"N/A\"]\n",
    "cleanco = coordinates[coordinates[\"Cloudiness\"]!=\"N/A\"]\n",
    "cleanco = coordinates[coordinates[\"Wind Speed\"]!=\"N/A\"]\n",
    "cleanco.head()"
   ]
  },
  {
   "cell_type": "code",
   "execution_count": null,
   "metadata": {},
   "outputs": [],
   "source": [
    "#write this data to a csv\n",
    "\n",
    "coordinates.to_csv(\"weather.csv\", header = True)"
   ]
  },
  {
   "cell_type": "code",
   "execution_count": null,
   "metadata": {},
   "outputs": [],
   "source": [
    "#Plot Temperature (F) vs. Latitude\n",
    "sns.set()\n",
    "plt.scatter(cleanco[\"Latitude\"], cleanco[\"Temperature\"], marker = \"o\" , color = \"red\",)\n",
    "plt.xlim(-100,100)\n",
    "plt.title(\"Temperature vs Latitude\")\n",
    "plt.ylabel(\"Temperature(F)\")\n",
    "plt.xlabel(\"Latitude\")\n",
    "plt.show()"
   ]
  },
  {
   "cell_type": "code",
   "execution_count": null,
   "metadata": {},
   "outputs": [],
   "source": [
    "#Plot Humidity(%) vs Latitude\n",
    "sns.set()\n",
    "plt.scatter(cleanco[\"Latitude\"], cleanco[\"Humidity\"], marker = \"o\" , color = \"red\",)\n",
    "plt.title(\"Humidity vs Latitude\")\n",
    "plt.ylabel(\"Humidity(%)\")\n",
    "plt.xlabel(\"Latitude\")\n",
    "plt.show()"
   ]
  },
  {
   "cell_type": "code",
   "execution_count": null,
   "metadata": {},
   "outputs": [],
   "source": [
    "#Plot Cloudiness(%) vs Latitude\n",
    "sns.set()\n",
    "plt.scatter(cleanco[\"Latitude\"], cleanco[\"Cloudiness\"], marker = \"o\" , color = \"red\",)\n",
    "plt.title(\"Cloudiness vs Latitude\")\n",
    "plt.ylabel(\"Cloudiness(%)\")\n",
    "plt.xlabel(\"Latitude\")\n",
    "plt.show()"
   ]
  },
  {
   "cell_type": "code",
   "execution_count": null,
   "metadata": {},
   "outputs": [],
   "source": [
    "#Plot Wind Speed(mph) vs Latitude\n",
    "sns.set()\n",
    "plt.scatter(cleanco[\"Latitude\"], cleanco[\"Wind Speed\"], marker = \"o\" , color = \"red\",)\n",
    "plt.title(\"Windspeed vs Latitude\")\n",
    "plt.ylabel(\"Windspeed (mph)\")\n",
    "plt.xlabel(\"Latitude\")\n",
    "plt.show()"
   ]
  },
  {
   "cell_type": "code",
   "execution_count": null,
   "metadata": {},
   "outputs": [],
   "source": [
    "#Observations\n",
    "#"
   ]
  },
  {
   "cell_type": "code",
   "execution_count": null,
   "metadata": {},
   "outputs": [],
   "source": []
  },
  {
   "cell_type": "code",
   "execution_count": null,
   "metadata": {},
   "outputs": [],
   "source": []
  }
 ],
 "metadata": {
  "kernelspec": {
   "display_name": "Python 3",
   "language": "python",
   "name": "python3"
  },
  "language_info": {
   "codemirror_mode": {
    "name": "ipython",
    "version": 3
   },
   "file_extension": ".py",
   "mimetype": "text/x-python",
   "name": "python",
   "nbconvert_exporter": "python",
   "pygments_lexer": "ipython3",
   "version": "3.6.4"
  }
 },
 "nbformat": 4,
 "nbformat_minor": 2
}
